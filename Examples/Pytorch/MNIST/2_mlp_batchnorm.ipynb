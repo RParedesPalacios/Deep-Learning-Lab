{
 "cells": [
  {
   "cell_type": "code",
   "execution_count": 1,
   "metadata": {},
   "outputs": [],
   "source": [
    "import torch\n",
    "import torch.nn as nn\n",
    "import torchvision\n",
    "import torch.optim as optim"
   ]
  },
  {
   "cell_type": "code",
   "execution_count": 2,
   "metadata": {},
   "outputs": [],
   "source": [
    "batch_size = 100\n",
    "epochs = 25\n",
    "num_classes=10\n",
    "device = torch.device(\"cuda\" if torch.cuda.is_available() else \"cpu\")"
   ]
  },
  {
   "cell_type": "code",
   "execution_count": 3,
   "metadata": {},
   "outputs": [],
   "source": [
    "data_transforms = torchvision.transforms.Compose([torchvision.transforms.ToTensor()])\n",
    "\n",
    "train_set = torchvision.datasets.MNIST('.data/', train=True, download=True, transform=data_transforms)\n",
    "train_loader = torch.utils.data.DataLoader(train_set, batch_size=batch_size, shuffle=True)\n",
    "\n",
    "test_set = torchvision.datasets.MNIST('.data/', train=False, download=True, transform=data_transforms)\n",
    "test_loader = torch.utils.data.DataLoader(test_set,batch_size=batch_size, shuffle=True)"
   ]
  },
  {
   "cell_type": "code",
   "execution_count": 4,
   "metadata": {},
   "outputs": [
    {
     "name": "stdout",
     "output_type": "stream",
     "text": [
      "Training set: 60000 samples - Max value: 1.0 - Min value: 0.0\n"
     ]
    }
   ],
   "source": [
    "x_batch, y_batch = iter(train_loader).next()\n",
    "print(\"Training set: {} samples - Max value: {} - Min value: {}\".format(len(train_loader.dataset), \n",
    "                                                                        x_batch.max(), x_batch.min()))"
   ]
  },
  {
   "cell_type": "code",
   "execution_count": 5,
   "metadata": {},
   "outputs": [
    {
     "name": "stdout",
     "output_type": "stream",
     "text": [
      "Test set: 10000 samples - Max value: 1.0 - Min value: 0.0\n"
     ]
    }
   ],
   "source": [
    "x_batch, y_batch = iter(test_loader).next()\n",
    "print(\"Test set: {} samples - Max value: {} - Min value: {}\".format(len(test_loader.dataset), \n",
    "                                                                        x_batch.max(), x_batch.min()))"
   ]
  },
  {
   "cell_type": "code",
   "execution_count": 6,
   "metadata": {},
   "outputs": [
    {
     "name": "stdout",
     "output_type": "stream",
     "text": [
      "Example batch shape: torch.Size([100, 1, 28, 28])\n"
     ]
    }
   ],
   "source": [
    "print(\"Example batch shape: {}\".format(x_batch.shape))"
   ]
  },
  {
   "cell_type": "code",
   "execution_count": 7,
   "metadata": {},
   "outputs": [
    {
     "name": "stdout",
     "output_type": "stream",
     "text": [
      "Net(\n",
      "  (linear1): Linear(in_features=784, out_features=1024, bias=True)\n",
      "  (bn1): BatchNorm1d(1024, eps=1e-05, momentum=0.1, affine=True, track_running_stats=True)\n",
      "  (relu1): ReLU()\n",
      "  (linear2): Linear(in_features=1024, out_features=1024, bias=True)\n",
      "  (bn2): BatchNorm1d(1024, eps=1e-05, momentum=0.1, affine=True, track_running_stats=True)\n",
      "  (relu2): ReLU()\n",
      "  (linear3): Linear(in_features=1024, out_features=1024, bias=True)\n",
      "  (bn3): BatchNorm1d(1024, eps=1e-05, momentum=0.1, affine=True, track_running_stats=True)\n",
      "  (relu3): ReLU()\n",
      "  (classifier): Linear(in_features=1024, out_features=10, bias=True)\n",
      ")\n"
     ]
    }
   ],
   "source": [
    "class Net(nn.Module):\n",
    "    def __init__(self):\n",
    "        super(Net, self).__init__()\n",
    "        self.linear1 = nn.Linear(784, 1024)\n",
    "        self.bn1 = nn.BatchNorm1d(1024)\n",
    "        self.relu1 = nn.ReLU()\n",
    "        self.linear2 = nn.Linear(1024, 1024)\n",
    "        self.bn2 = nn.BatchNorm1d(1024)\n",
    "        self.relu2 = nn.ReLU()\n",
    "        self.linear3 = nn.Linear(1024, 1024)\n",
    "        self.bn3 = nn.BatchNorm1d(1024)\n",
    "        self.relu3 = nn.ReLU()\n",
    "        self.classifier = nn.Linear(1024, num_classes)\n",
    "\n",
    "    def forward(self, x):\n",
    "        out = self.relu1(self.bn1(self.linear1(x)))\n",
    "        out = self.relu2(self.bn2(self.linear2(out)))\n",
    "        out = self.relu3(self.bn3(self.linear3(out)))\n",
    "        out = self.classifier(out)       \n",
    "        return out\n",
    "\n",
    "net = Net().to(device)\n",
    "print(net)"
   ]
  },
  {
   "cell_type": "code",
   "execution_count": 8,
   "metadata": {},
   "outputs": [],
   "source": [
    "criterion = nn.CrossEntropyLoss()\n",
    "optimizer = optim.SGD(net.parameters(), lr=0.1, weight_decay=1e-6, momentum=0.9)"
   ]
  },
  {
   "cell_type": "code",
   "execution_count": 9,
   "metadata": {
    "scrolled": false
   },
   "outputs": [
    {
     "name": "stdout",
     "output_type": "stream",
     "text": [
      "\n",
      "---- Start Training ----\n",
      "[Epoch 1] Train Loss: 0.002006 - Test Loss: 0.000980 - Train Accuracy: 93.84% - Test Accuracy: 96.88%\n",
      "[Epoch 2] Train Loss: 0.000834 - Test Loss: 0.000684 - Train Accuracy: 97.40% - Test Accuracy: 97.82%\n",
      "[Epoch 3] Train Loss: 0.000543 - Test Loss: 0.000638 - Train Accuracy: 98.31% - Test Accuracy: 97.98%\n",
      "[Epoch 4] Train Loss: 0.000384 - Test Loss: 0.000634 - Train Accuracy: 98.78% - Test Accuracy: 98.08%\n",
      "[Epoch 5] Train Loss: 0.000293 - Test Loss: 0.000582 - Train Accuracy: 99.03% - Test Accuracy: 98.31%\n",
      "[Epoch 6] Train Loss: 0.000219 - Test Loss: 0.000725 - Train Accuracy: 99.26% - Test Accuracy: 97.99%\n",
      "[Epoch 7] Train Loss: 0.000190 - Test Loss: 0.000585 - Train Accuracy: 99.35% - Test Accuracy: 98.36%\n",
      "[Epoch 8] Train Loss: 0.000141 - Test Loss: 0.000606 - Train Accuracy: 99.54% - Test Accuracy: 98.38%\n",
      "[Epoch 9] Train Loss: 0.000128 - Test Loss: 0.000632 - Train Accuracy: 99.55% - Test Accuracy: 98.26%\n",
      "[Epoch 10] Train Loss: 0.000118 - Test Loss: 0.000624 - Train Accuracy: 99.60% - Test Accuracy: 98.32%\n",
      "[Epoch 11] Train Loss: 0.000098 - Test Loss: 0.000613 - Train Accuracy: 99.66% - Test Accuracy: 98.42%\n",
      "[Epoch 12] Train Loss: 0.000105 - Test Loss: 0.000663 - Train Accuracy: 99.64% - Test Accuracy: 98.54%\n",
      "[Epoch 13] Train Loss: 0.000066 - Test Loss: 0.000626 - Train Accuracy: 99.80% - Test Accuracy: 98.66%\n",
      "[Epoch 14] Train Loss: 0.000053 - Test Loss: 0.000573 - Train Accuracy: 99.84% - Test Accuracy: 98.61%\n",
      "[Epoch 15] Train Loss: 0.000051 - Test Loss: 0.000617 - Train Accuracy: 99.82% - Test Accuracy: 98.61%\n",
      "[Epoch 16] Train Loss: 0.000074 - Test Loss: 0.000633 - Train Accuracy: 99.77% - Test Accuracy: 98.47%\n",
      "[Epoch 17] Train Loss: 0.000060 - Test Loss: 0.000559 - Train Accuracy: 99.77% - Test Accuracy: 98.61%\n",
      "[Epoch 18] Train Loss: 0.000036 - Test Loss: 0.000604 - Train Accuracy: 99.90% - Test Accuracy: 98.55%\n",
      "[Epoch 19] Train Loss: 0.000040 - Test Loss: 0.000627 - Train Accuracy: 99.85% - Test Accuracy: 98.43%\n",
      "[Epoch 20] Train Loss: 0.000032 - Test Loss: 0.000560 - Train Accuracy: 99.90% - Test Accuracy: 98.65%\n",
      "[Epoch 21] Train Loss: 0.000043 - Test Loss: 0.000655 - Train Accuracy: 99.85% - Test Accuracy: 98.60%\n",
      "[Epoch 22] Train Loss: 0.000027 - Test Loss: 0.000650 - Train Accuracy: 99.92% - Test Accuracy: 98.58%\n",
      "[Epoch 23] Train Loss: 0.000024 - Test Loss: 0.000596 - Train Accuracy: 99.92% - Test Accuracy: 98.79%\n",
      "[Epoch 24] Train Loss: 0.000019 - Test Loss: 0.000648 - Train Accuracy: 99.95% - Test Accuracy: 98.61%\n",
      "[Epoch 25] Train Loss: 0.000021 - Test Loss: 0.000724 - Train Accuracy: 99.93% - Test Accuracy: 98.63%\n",
      "Finished Training\n",
      "Best Test accuracy: 98.79\n"
     ]
    }
   ],
   "source": [
    "print(\"\\n---- Start Training ----\")\n",
    "best_accuracy = -1\n",
    "for epoch in range(epochs):\n",
    "\n",
    "    # TRAIN THE NETWORK\n",
    "    train_loss, train_correct = 0, 0\n",
    "    net.train()\n",
    "    for inputs, targets in train_loader:\n",
    "        # data is a list of [inputs, labels]\n",
    "        inputs, targets = inputs.to(device), targets.to(device)\n",
    "        ## care! net expect a 784 size vector and our dataset provide 1x28x28 = Reshape!\n",
    "        inputs = inputs.view(inputs.size(0), -1)\n",
    "        \n",
    "        # zero the parameter gradients\n",
    "        optimizer.zero_grad()\n",
    "\n",
    "        # forward + backward + optimize\n",
    "        outputs = net(inputs)\n",
    "        loss = criterion(outputs, targets)\n",
    "        loss.backward()\n",
    "        optimizer.step()\n",
    "        _, pred = outputs.max(1)  # get the index of the max log-probability\n",
    "        train_correct += pred.eq(targets).sum().item()\n",
    "\n",
    "        # print statistics\n",
    "        train_loss += loss.item()\n",
    "        \n",
    "    train_loss /= len(train_loader.dataset)\n",
    "\n",
    "    # TEST NETWORK\n",
    "    net.eval()\n",
    "    test_loss, correct = 0, 0\n",
    "    with torch.no_grad():\n",
    "        for inputs, targets in test_loader:\n",
    "            inputs, targets = inputs.to(device), targets.to(device)\n",
    "            ## care! net expect a 784 size vector and our dataset provide 1x28x28 = Reshape!\n",
    "            inputs = inputs.view(inputs.size(0), -1)\n",
    "            outputs = net(inputs)\n",
    "            test_loss += criterion(outputs, targets)\n",
    "            _, pred = outputs.max(1)  # get the index of the max log-probability\n",
    "            correct += pred.eq(targets).sum().item()\n",
    "\n",
    "    test_loss /= len(test_loader.dataset)\n",
    "    test_accuracy = 100. * correct / len(test_loader.dataset)\n",
    "    print(\"[Epoch {}] Train Loss: {:.6f} - Test Loss: {:.6f} - Train Accuracy: {:.2f}% - Test Accuracy: {:.2f}%\".format(epoch+1, train_loss, test_loss, 100. * train_correct / len(train_loader.dataset), test_accuracy))\n",
    "    \n",
    "    if test_accuracy>best_accuracy:\n",
    "        best_accuracy = test_accuracy\n",
    "    \n",
    "print(\"Finished Training\")\n",
    "print(\"Best Test accuracy: {:.2f}\".format(best_accuracy))"
   ]
  }
 ],
 "metadata": {
  "kernelspec": {
   "display_name": "Python 3",
   "language": "python",
   "name": "python3"
  },
  "language_info": {
   "codemirror_mode": {
    "name": "ipython",
    "version": 3
   },
   "file_extension": ".py",
   "mimetype": "text/x-python",
   "name": "python",
   "nbconvert_exporter": "python",
   "pygments_lexer": "ipython3",
   "version": "3.5.2"
  }
 },
 "nbformat": 4,
 "nbformat_minor": 2
}
