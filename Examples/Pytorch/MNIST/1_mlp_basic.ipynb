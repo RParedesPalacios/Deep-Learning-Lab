{
 "cells": [
  {
   "cell_type": "code",
   "execution_count": 1,
   "metadata": {},
   "outputs": [],
   "source": [
    "import torch\n",
    "import torch.nn as nn\n",
    "import torchvision\n",
    "import torch.optim as optim"
   ]
  },
  {
   "cell_type": "code",
   "execution_count": 2,
   "metadata": {},
   "outputs": [],
   "source": [
    "batch_size = 100\n",
    "epochs = 25\n",
    "num_classes=10\n",
    "device = torch.device(\"cuda\" if torch.cuda.is_available() else \"cpu\")"
   ]
  },
  {
   "cell_type": "code",
   "execution_count": 3,
   "metadata": {},
   "outputs": [],
   "source": [
    "data_transforms = torchvision.transforms.Compose([torchvision.transforms.ToTensor()])\n",
    "\n",
    "train_set = torchvision.datasets.MNIST('.data/', train=True, download=True, transform=data_transforms)\n",
    "train_loader = torch.utils.data.DataLoader(train_set, batch_size=batch_size, shuffle=True)\n",
    "\n",
    "test_set = torchvision.datasets.MNIST('.data/', train=False, download=True, transform=data_transforms)\n",
    "test_loader = torch.utils.data.DataLoader(test_set,batch_size=batch_size, shuffle=True)"
   ]
  },
  {
   "cell_type": "code",
   "execution_count": 4,
   "metadata": {},
   "outputs": [
    {
     "name": "stdout",
     "output_type": "stream",
     "text": [
      "Training set: 60000 samples - Max value: 1.0 - Min value: 0.0\n"
     ]
    }
   ],
   "source": [
    "x_batch, y_batch = iter(train_loader).next()\n",
    "print(\"Training set: {} samples - Max value: {} - Min value: {}\".format(len(train_loader.dataset), \n",
    "                                                                        x_batch.max(), x_batch.min()))"
   ]
  },
  {
   "cell_type": "code",
   "execution_count": 5,
   "metadata": {},
   "outputs": [
    {
     "name": "stdout",
     "output_type": "stream",
     "text": [
      "Test set: 10000 samples - Max value: 1.0 - Min value: 0.0\n"
     ]
    }
   ],
   "source": [
    "x_batch, y_batch = iter(test_loader).next()\n",
    "print(\"Test set: {} samples - Max value: {} - Min value: {}\".format(len(test_loader.dataset), \n",
    "                                                                        x_batch.max(), x_batch.min()))"
   ]
  },
  {
   "cell_type": "code",
   "execution_count": 6,
   "metadata": {},
   "outputs": [
    {
     "name": "stdout",
     "output_type": "stream",
     "text": [
      "Example batch shape: torch.Size([100, 1, 28, 28])\n"
     ]
    }
   ],
   "source": [
    "print(\"Example batch shape: {}\".format(x_batch.shape))"
   ]
  },
  {
   "cell_type": "code",
   "execution_count": 7,
   "metadata": {},
   "outputs": [
    {
     "name": "stdout",
     "output_type": "stream",
     "text": [
      "Net(\n",
      "  (linear1): Linear(in_features=784, out_features=1024, bias=True)\n",
      "  (relu1): ReLU()\n",
      "  (linear2): Linear(in_features=1024, out_features=1024, bias=True)\n",
      "  (relu2): ReLU()\n",
      "  (linear3): Linear(in_features=1024, out_features=1024, bias=True)\n",
      "  (relu3): ReLU()\n",
      "  (classifier): Linear(in_features=1024, out_features=10, bias=True)\n",
      ")\n"
     ]
    }
   ],
   "source": [
    "class Net(nn.Module):\n",
    "    def __init__(self):\n",
    "        super(Net, self).__init__()\n",
    "        self.linear1 = nn.Linear(784, 1024)\n",
    "        self.relu1 = nn.ReLU()\n",
    "        self.linear2 = nn.Linear(1024, 1024)\n",
    "        self.relu2 = nn.ReLU()\n",
    "        self.linear3 = nn.Linear(1024, 1024)\n",
    "        self.relu3 = nn.ReLU()\n",
    "        self.classifier = nn.Linear(1024, num_classes)\n",
    "\n",
    "    def forward(self, x):\n",
    "        out = self.relu1(self.linear1(x))\n",
    "        out = self.relu2(self.linear2(out))\n",
    "        out = self.relu3(self.linear3(out))\n",
    "        out = self.classifier(out)       \n",
    "        return out\n",
    "\n",
    "net = Net().to(device)\n",
    "print(net)"
   ]
  },
  {
   "cell_type": "code",
   "execution_count": 8,
   "metadata": {},
   "outputs": [],
   "source": [
    "criterion = nn.CrossEntropyLoss()\n",
    "optimizer = optim.SGD(net.parameters(), lr=0.01, weight_decay=1e-6, momentum=0.9)"
   ]
  },
  {
   "cell_type": "code",
   "execution_count": 9,
   "metadata": {
    "scrolled": false
   },
   "outputs": [
    {
     "name": "stdout",
     "output_type": "stream",
     "text": [
      "\n",
      "---- Start Training ----\n",
      "[Epoch 1] Train Loss: 0.007333 - Test Loss: 0.002523 - Train Accuracy: 79.75% - Test Accuracy: 92.67%\n",
      "[Epoch 2] Train Loss: 0.002037 - Test Loss: 0.001576 - Train Accuracy: 93.98% - Test Accuracy: 95.22%\n",
      "[Epoch 3] Train Loss: 0.001308 - Test Loss: 0.001117 - Train Accuracy: 96.15% - Test Accuracy: 96.56%\n",
      "[Epoch 4] Train Loss: 0.000948 - Test Loss: 0.000956 - Train Accuracy: 97.15% - Test Accuracy: 96.89%\n",
      "[Epoch 5] Train Loss: 0.000725 - Test Loss: 0.000780 - Train Accuracy: 97.81% - Test Accuracy: 97.53%\n",
      "[Epoch 6] Train Loss: 0.000553 - Test Loss: 0.000720 - Train Accuracy: 98.34% - Test Accuracy: 97.70%\n",
      "[Epoch 7] Train Loss: 0.000444 - Test Loss: 0.000699 - Train Accuracy: 98.70% - Test Accuracy: 97.79%\n",
      "[Epoch 8] Train Loss: 0.000346 - Test Loss: 0.000751 - Train Accuracy: 98.97% - Test Accuracy: 97.57%\n",
      "[Epoch 9] Train Loss: 0.000264 - Test Loss: 0.000651 - Train Accuracy: 99.25% - Test Accuracy: 98.06%\n",
      "[Epoch 10] Train Loss: 0.000203 - Test Loss: 0.000665 - Train Accuracy: 99.46% - Test Accuracy: 98.03%\n",
      "[Epoch 11] Train Loss: 0.000151 - Test Loss: 0.000690 - Train Accuracy: 99.64% - Test Accuracy: 97.88%\n",
      "[Epoch 12] Train Loss: 0.000119 - Test Loss: 0.000693 - Train Accuracy: 99.72% - Test Accuracy: 98.05%\n",
      "[Epoch 13] Train Loss: 0.000089 - Test Loss: 0.000657 - Train Accuracy: 99.81% - Test Accuracy: 98.09%\n",
      "[Epoch 14] Train Loss: 0.000071 - Test Loss: 0.000673 - Train Accuracy: 99.87% - Test Accuracy: 98.17%\n",
      "[Epoch 15] Train Loss: 0.000044 - Test Loss: 0.000626 - Train Accuracy: 99.94% - Test Accuracy: 98.28%\n",
      "[Epoch 16] Train Loss: 0.000037 - Test Loss: 0.000656 - Train Accuracy: 99.95% - Test Accuracy: 98.28%\n",
      "[Epoch 17] Train Loss: 0.000022 - Test Loss: 0.000651 - Train Accuracy: 99.99% - Test Accuracy: 98.28%\n",
      "[Epoch 18] Train Loss: 0.000016 - Test Loss: 0.000671 - Train Accuracy: 100.00% - Test Accuracy: 98.25%\n",
      "[Epoch 19] Train Loss: 0.000013 - Test Loss: 0.000679 - Train Accuracy: 100.00% - Test Accuracy: 98.25%\n",
      "[Epoch 20] Train Loss: 0.000011 - Test Loss: 0.000690 - Train Accuracy: 100.00% - Test Accuracy: 98.31%\n",
      "[Epoch 21] Train Loss: 0.000009 - Test Loss: 0.000695 - Train Accuracy: 100.00% - Test Accuracy: 98.25%\n",
      "[Epoch 22] Train Loss: 0.000008 - Test Loss: 0.000694 - Train Accuracy: 100.00% - Test Accuracy: 98.30%\n",
      "[Epoch 23] Train Loss: 0.000007 - Test Loss: 0.000697 - Train Accuracy: 100.00% - Test Accuracy: 98.25%\n",
      "[Epoch 24] Train Loss: 0.000007 - Test Loss: 0.000706 - Train Accuracy: 100.00% - Test Accuracy: 98.30%\n",
      "[Epoch 25] Train Loss: 0.000006 - Test Loss: 0.000717 - Train Accuracy: 100.00% - Test Accuracy: 98.30%\n",
      "Finished Training\n",
      "Best Test accuracy: 98.31\n"
     ]
    }
   ],
   "source": [
    "print(\"\\n---- Start Training ----\")\n",
    "best_accuracy = -1\n",
    "for epoch in range(epochs):\n",
    "\n",
    "    # TRAIN THE NETWORK\n",
    "    train_loss, train_correct = 0, 0\n",
    "    net.train()\n",
    "    for inputs, targets in train_loader:\n",
    "        # data is a list of [inputs, labels]\n",
    "        inputs, targets = inputs.to(device), targets.to(device)\n",
    "        ## care! net expect a 784 size vector and our dataset provide 1x28x28 = Reshape!\n",
    "        inputs = inputs.view(inputs.size(0), -1)\n",
    "        \n",
    "        # zero the parameter gradients\n",
    "        optimizer.zero_grad()\n",
    "\n",
    "        # forward + backward + optimize\n",
    "        outputs = net(inputs)\n",
    "        loss = criterion(outputs, targets)\n",
    "        loss.backward()\n",
    "        optimizer.step()\n",
    "        _, pred = outputs.max(1)  # get the index of the max log-probability\n",
    "        train_correct += pred.eq(targets).sum().item()\n",
    "\n",
    "        # print statistics\n",
    "        train_loss += loss.item()\n",
    "        \n",
    "    train_loss /= len(train_loader.dataset)\n",
    "\n",
    "    # TEST NETWORK\n",
    "    net.eval()\n",
    "    test_loss, correct = 0, 0\n",
    "    with torch.no_grad():\n",
    "        for inputs, targets in test_loader:\n",
    "            inputs, targets = inputs.to(device), targets.to(device)\n",
    "            ## care! net expect a 784 size vector and our dataset provide 1x28x28 = Reshape!\n",
    "            inputs = inputs.view(inputs.size(0), -1)\n",
    "            outputs = net(inputs)\n",
    "            test_loss += criterion(outputs, targets)\n",
    "            _, pred = outputs.max(1)  # get the index of the max log-probability\n",
    "            correct += pred.eq(targets).sum().item()\n",
    "\n",
    "    test_loss /= len(test_loader.dataset)\n",
    "    test_accuracy = 100. * correct / len(test_loader.dataset)\n",
    "    print(\"[Epoch {}] Train Loss: {:.6f} - Test Loss: {:.6f} - Train Accuracy: {:.2f}% - Test Accuracy: {:.2f}%\".format(epoch+1, train_loss, test_loss, 100. * train_correct / len(train_loader.dataset), test_accuracy))\n",
    "    \n",
    "    if test_accuracy>best_accuracy:\n",
    "        best_accuracy = test_accuracy\n",
    "    \n",
    "print(\"Finished Training\")\n",
    "print(\"Best Test accuracy: {:.2f}\".format(best_accuracy))"
   ]
  }
 ],
 "metadata": {
  "kernelspec": {
   "display_name": "Python 3",
   "language": "python",
   "name": "python3"
  },
  "language_info": {
   "codemirror_mode": {
    "name": "ipython",
    "version": 3
   },
   "file_extension": ".py",
   "mimetype": "text/x-python",
   "name": "python",
   "nbconvert_exporter": "python",
   "pygments_lexer": "ipython3",
   "version": "3.5.2"
  }
 },
 "nbformat": 4,
 "nbformat_minor": 2
}
