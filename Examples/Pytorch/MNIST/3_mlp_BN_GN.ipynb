{
 "cells": [
  {
   "cell_type": "code",
   "execution_count": 1,
   "metadata": {},
   "outputs": [],
   "source": [
    "import torch\n",
    "import torch.nn as nn\n",
    "import torchvision\n",
    "import torch.optim as optim"
   ]
  },
  {
   "cell_type": "code",
   "execution_count": 2,
   "metadata": {},
   "outputs": [],
   "source": [
    "batch_size = 100\n",
    "epochs = 25\n",
    "num_classes=10\n",
    "device = torch.device(\"cuda\" if torch.cuda.is_available() else \"cpu\")"
   ]
  },
  {
   "cell_type": "code",
   "execution_count": 3,
   "metadata": {},
   "outputs": [],
   "source": [
    "data_transforms = torchvision.transforms.Compose([torchvision.transforms.ToTensor()])\n",
    "\n",
    "train_set = torchvision.datasets.MNIST('.data/', train=True, download=True, transform=data_transforms)\n",
    "train_loader = torch.utils.data.DataLoader(train_set, batch_size=batch_size, shuffle=True)\n",
    "\n",
    "test_set = torchvision.datasets.MNIST('.data/', train=False, download=True, transform=data_transforms)\n",
    "test_loader = torch.utils.data.DataLoader(test_set,batch_size=batch_size, shuffle=True)"
   ]
  },
  {
   "cell_type": "code",
   "execution_count": 4,
   "metadata": {},
   "outputs": [
    {
     "name": "stdout",
     "output_type": "stream",
     "text": [
      "Training set: 60000 samples - Max value: 1.0 - Min value: 0.0\n"
     ]
    }
   ],
   "source": [
    "x_batch, y_batch = iter(train_loader).next()\n",
    "print(\"Training set: {} samples - Max value: {} - Min value: {}\".format(len(train_loader.dataset), \n",
    "                                                                        x_batch.max(), x_batch.min()))"
   ]
  },
  {
   "cell_type": "code",
   "execution_count": 5,
   "metadata": {},
   "outputs": [
    {
     "name": "stdout",
     "output_type": "stream",
     "text": [
      "Test set: 10000 samples - Max value: 1.0 - Min value: 0.0\n"
     ]
    }
   ],
   "source": [
    "x_batch, y_batch = iter(test_loader).next()\n",
    "print(\"Test set: {} samples - Max value: {} - Min value: {}\".format(len(test_loader.dataset), \n",
    "                                                                        x_batch.max(), x_batch.min()))"
   ]
  },
  {
   "cell_type": "code",
   "execution_count": 6,
   "metadata": {},
   "outputs": [
    {
     "name": "stdout",
     "output_type": "stream",
     "text": [
      "Example batch shape: torch.Size([100, 1, 28, 28])\n"
     ]
    }
   ],
   "source": [
    "print(\"Example batch shape: {}\".format(x_batch.shape))"
   ]
  },
  {
   "cell_type": "code",
   "execution_count": 7,
   "metadata": {},
   "outputs": [],
   "source": [
    "class GaussianNoise(nn.Module):\n",
    "    \"\"\"Gaussian noise regularizer.\n",
    "\n",
    "    Args:\n",
    "        sigma (float, optional): relative standard deviation used to generate the\n",
    "            noise. Relative means that it will be multiplied by the magnitude of\n",
    "            the value your are adding the noise to. This means that sigma can be\n",
    "            the same regardless of the scale of the vector.\n",
    "        is_relative_detach (bool, optional): whether to detach the variable before\n",
    "            computing the scale of the noise. If `False` then the scale of the noise\n",
    "            won't be seen as a constant but something to optimize: this will bias the\n",
    "            network to generate vectors with smaller values.\n",
    "    \"\"\"\n",
    "\n",
    "    def __init__(self, sigma=0.1, is_relative_detach=True):\n",
    "        super().__init__()\n",
    "        self.sigma = sigma\n",
    "        self.is_relative_detach = is_relative_detach\n",
    "        self.noise = torch.tensor(0).to(device).float()\n",
    "\n",
    "    def forward(self, x):\n",
    "        if self.training and self.sigma != 0:\n",
    "            scale = self.sigma * x.detach() if self.is_relative_detach else self.sigma * x\n",
    "            sampled_noise = self.noise.repeat(*x.size()).normal_() * scale\n",
    "            x = x + sampled_noise\n",
    "        return x "
   ]
  },
  {
   "cell_type": "code",
   "execution_count": 8,
   "metadata": {},
   "outputs": [
    {
     "name": "stdout",
     "output_type": "stream",
     "text": [
      "Net(\n",
      "  (gn0): GaussianNoise()\n",
      "  (linear1): Linear(in_features=784, out_features=1024, bias=True)\n",
      "  (bn1): BatchNorm1d(1024, eps=1e-05, momentum=0.1, affine=True, track_running_stats=True)\n",
      "  (gn1): GaussianNoise()\n",
      "  (relu1): ReLU()\n",
      "  (linear2): Linear(in_features=1024, out_features=1024, bias=True)\n",
      "  (bn2): BatchNorm1d(1024, eps=1e-05, momentum=0.1, affine=True, track_running_stats=True)\n",
      "  (gn2): GaussianNoise()\n",
      "  (relu2): ReLU()\n",
      "  (linear3): Linear(in_features=1024, out_features=1024, bias=True)\n",
      "  (bn3): BatchNorm1d(1024, eps=1e-05, momentum=0.1, affine=True, track_running_stats=True)\n",
      "  (gn3): GaussianNoise()\n",
      "  (relu3): ReLU()\n",
      "  (classifier): Linear(in_features=1024, out_features=10, bias=True)\n",
      ")\n"
     ]
    }
   ],
   "source": [
    "class Net(nn.Module):\n",
    "    def __init__(self):\n",
    "        super(Net, self).__init__()\n",
    "        self.gn0 = GaussianNoise(0.3)\n",
    "        self.linear1 = nn.Linear(784, 1024)\n",
    "        self.bn1 = nn.BatchNorm1d(1024)\n",
    "        self.gn1 = GaussianNoise(0.3)\n",
    "        self.relu1 = nn.ReLU()\n",
    "        self.linear2 = nn.Linear(1024, 1024)\n",
    "        self.bn2 = nn.BatchNorm1d(1024)\n",
    "        self.gn2 = GaussianNoise(0.3)\n",
    "        self.relu2 = nn.ReLU()\n",
    "        self.linear3 = nn.Linear(1024, 1024)\n",
    "        self.bn3 = nn.BatchNorm1d(1024)\n",
    "        self.gn3 = GaussianNoise(0.3)\n",
    "        self.relu3 = nn.ReLU()\n",
    "        self.classifier = nn.Linear(1024, num_classes)\n",
    "\n",
    "    def forward(self, x):\n",
    "        out = self.gn0(x)\n",
    "        out = self.relu1(self.gn1(self.bn1(self.linear1(out))))\n",
    "        out = self.relu2(self.bn2(self.linear2(out)))\n",
    "        out = self.relu3(self.bn3(self.linear3(out)))\n",
    "        out = self.classifier(out)       \n",
    "        return out\n",
    "\n",
    "net = Net().to(device)\n",
    "print(net)"
   ]
  },
  {
   "cell_type": "code",
   "execution_count": 9,
   "metadata": {},
   "outputs": [],
   "source": [
    "criterion = nn.CrossEntropyLoss()\n",
    "optimizer = optim.SGD(net.parameters(), lr=0.1, weight_decay=1e-6, momentum=0.9)"
   ]
  },
  {
   "cell_type": "code",
   "execution_count": 10,
   "metadata": {
    "scrolled": false
   },
   "outputs": [
    {
     "name": "stdout",
     "output_type": "stream",
     "text": [
      "\n",
      "---- Start Training ----\n",
      "[Epoch 1] Train Loss: 0.002258 - Test Loss: 0.000963 - Train Accuracy: 93.26% - Test Accuracy: 97.18%\n",
      "[Epoch 2] Train Loss: 0.001033 - Test Loss: 0.000739 - Train Accuracy: 96.84% - Test Accuracy: 97.70%\n",
      "[Epoch 3] Train Loss: 0.000745 - Test Loss: 0.000654 - Train Accuracy: 97.69% - Test Accuracy: 98.11%\n",
      "[Epoch 4] Train Loss: 0.000581 - Test Loss: 0.000557 - Train Accuracy: 98.13% - Test Accuracy: 98.28%\n",
      "[Epoch 5] Train Loss: 0.000476 - Test Loss: 0.000588 - Train Accuracy: 98.48% - Test Accuracy: 98.20%\n",
      "[Epoch 6] Train Loss: 0.000416 - Test Loss: 0.000653 - Train Accuracy: 98.62% - Test Accuracy: 98.22%\n",
      "[Epoch 7] Train Loss: 0.000353 - Test Loss: 0.000485 - Train Accuracy: 98.83% - Test Accuracy: 98.57%\n",
      "[Epoch 8] Train Loss: 0.000284 - Test Loss: 0.000554 - Train Accuracy: 99.05% - Test Accuracy: 98.44%\n",
      "[Epoch 9] Train Loss: 0.000272 - Test Loss: 0.000490 - Train Accuracy: 99.12% - Test Accuracy: 98.52%\n",
      "[Epoch 10] Train Loss: 0.000250 - Test Loss: 0.000516 - Train Accuracy: 99.15% - Test Accuracy: 98.55%\n",
      "[Epoch 11] Train Loss: 0.000213 - Test Loss: 0.000536 - Train Accuracy: 99.29% - Test Accuracy: 98.53%\n",
      "[Epoch 12] Train Loss: 0.000180 - Test Loss: 0.000618 - Train Accuracy: 99.38% - Test Accuracy: 98.30%\n",
      "[Epoch 13] Train Loss: 0.000182 - Test Loss: 0.000526 - Train Accuracy: 99.36% - Test Accuracy: 98.61%\n",
      "[Epoch 14] Train Loss: 0.000169 - Test Loss: 0.000532 - Train Accuracy: 99.44% - Test Accuracy: 98.56%\n",
      "[Epoch 15] Train Loss: 0.000156 - Test Loss: 0.000630 - Train Accuracy: 99.46% - Test Accuracy: 98.50%\n",
      "[Epoch 16] Train Loss: 0.000129 - Test Loss: 0.000525 - Train Accuracy: 99.57% - Test Accuracy: 98.60%\n",
      "[Epoch 17] Train Loss: 0.000137 - Test Loss: 0.000499 - Train Accuracy: 99.54% - Test Accuracy: 98.60%\n",
      "[Epoch 18] Train Loss: 0.000145 - Test Loss: 0.000506 - Train Accuracy: 99.46% - Test Accuracy: 98.69%\n",
      "[Epoch 19] Train Loss: 0.000109 - Test Loss: 0.000584 - Train Accuracy: 99.62% - Test Accuracy: 98.63%\n",
      "[Epoch 20] Train Loss: 0.000120 - Test Loss: 0.000602 - Train Accuracy: 99.57% - Test Accuracy: 98.64%\n",
      "[Epoch 21] Train Loss: 0.000120 - Test Loss: 0.000577 - Train Accuracy: 99.61% - Test Accuracy: 98.64%\n",
      "[Epoch 22] Train Loss: 0.000097 - Test Loss: 0.000481 - Train Accuracy: 99.66% - Test Accuracy: 98.74%\n",
      "[Epoch 23] Train Loss: 0.000079 - Test Loss: 0.000544 - Train Accuracy: 99.74% - Test Accuracy: 98.70%\n",
      "[Epoch 24] Train Loss: 0.000088 - Test Loss: 0.000559 - Train Accuracy: 99.71% - Test Accuracy: 98.71%\n",
      "[Epoch 25] Train Loss: 0.000078 - Test Loss: 0.000538 - Train Accuracy: 99.74% - Test Accuracy: 98.76%\n",
      "Finished Training\n",
      "Best Test accuracy: 98.76\n"
     ]
    }
   ],
   "source": [
    "print(\"\\n---- Start Training ----\")\n",
    "best_accuracy = -1\n",
    "for epoch in range(epochs):\n",
    "\n",
    "    # TRAIN THE NETWORK\n",
    "    train_loss, train_correct = 0, 0\n",
    "    net.train()\n",
    "    for inputs, targets in train_loader:\n",
    "        # data is a list of [inputs, labels]\n",
    "        inputs, targets = inputs.to(device), targets.to(device)\n",
    "        ## care! net expect a 784 size vector and our dataset provide 1x28x28 = Reshape!\n",
    "        inputs = inputs.view(inputs.size(0), -1)\n",
    "        \n",
    "        # zero the parameter gradients\n",
    "        optimizer.zero_grad()\n",
    "\n",
    "        # forward + backward + optimize\n",
    "        outputs = net(inputs)\n",
    "        loss = criterion(outputs, targets)\n",
    "        loss.backward()\n",
    "        optimizer.step()\n",
    "        _, pred = outputs.max(1)  # get the index of the max log-probability\n",
    "        train_correct += pred.eq(targets).sum().item()\n",
    "\n",
    "        # print statistics\n",
    "        train_loss += loss.item()\n",
    "        \n",
    "    train_loss /= len(train_loader.dataset)\n",
    "\n",
    "    # TEST NETWORK\n",
    "    net.eval()\n",
    "    test_loss, correct = 0, 0\n",
    "    with torch.no_grad():\n",
    "        for inputs, targets in test_loader:\n",
    "            inputs, targets = inputs.to(device), targets.to(device)\n",
    "            ## care! net expect a 784 size vector and our dataset provide 1x28x28 = Reshape!\n",
    "            inputs = inputs.view(inputs.size(0), -1)\n",
    "            outputs = net(inputs)\n",
    "            test_loss += criterion(outputs, targets)\n",
    "            _, pred = outputs.max(1)  # get the index of the max log-probability\n",
    "            correct += pred.eq(targets).sum().item()\n",
    "\n",
    "    test_loss /= len(test_loader.dataset)\n",
    "    test_accuracy = 100. * correct / len(test_loader.dataset)\n",
    "    print(\"[Epoch {}] Train Loss: {:.6f} - Test Loss: {:.6f} - Train Accuracy: {:.2f}% - Test Accuracy: {:.2f}%\".format(epoch+1, train_loss, test_loss, 100. * train_correct / len(train_loader.dataset), test_accuracy))\n",
    "    \n",
    "    if test_accuracy>best_accuracy:\n",
    "        best_accuracy = test_accuracy\n",
    "    \n",
    "print(\"Finished Training\")\n",
    "print(\"Best Test accuracy: {:.2f}\".format(best_accuracy))"
   ]
  }
 ],
 "metadata": {
  "kernelspec": {
   "display_name": "Python 3",
   "language": "python",
   "name": "python3"
  },
  "language_info": {
   "codemirror_mode": {
    "name": "ipython",
    "version": 3
   },
   "file_extension": ".py",
   "mimetype": "text/x-python",
   "name": "python",
   "nbconvert_exporter": "python",
   "pygments_lexer": "ipython3",
   "version": "3.5.2"
  }
 },
 "nbformat": 4,
 "nbformat_minor": 2
}
