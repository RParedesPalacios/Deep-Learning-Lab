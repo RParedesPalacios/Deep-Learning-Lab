{
 "cells": [
  {
   "cell_type": "code",
   "execution_count": 1,
   "metadata": {},
   "outputs": [],
   "source": [
    "import torch\n",
    "import torch.nn as nn\n",
    "import torch.optim as optim\n",
    "import torchvision\n",
    "import torchvision.transforms as transforms"
   ]
  },
  {
   "cell_type": "code",
   "execution_count": 2,
   "metadata": {},
   "outputs": [],
   "source": [
    "batch_size = 100\n",
    "num_classes = 10\n",
    "epochs = 75\n",
    "device = torch.device(\"cuda\" if torch.cuda.is_available() else \"cpu\")"
   ]
  },
  {
   "cell_type": "markdown",
   "metadata": {},
   "source": [
    "#### LOAD DATA AND TRANSFORM"
   ]
  },
  {
   "cell_type": "code",
   "execution_count": 3,
   "metadata": {},
   "outputs": [
    {
     "name": "stdout",
     "output_type": "stream",
     "text": [
      "Files already downloaded and verified\n"
     ]
    }
   ],
   "source": [
    "# The output of torchvision datasets are PILImage images of range [0, 1].\n",
    "# https://pytorch.org/docs/stable/torchvision/transforms.html\n",
    "train_transforms = torchvision.transforms.Compose([\n",
    "    torchvision.transforms.RandomHorizontalFlip(p=0.5),\n",
    "    torchvision.transforms.RandomAffine(degrees=0, translate=(0.2, 0.2)),\n",
    "    torchvision.transforms.ToTensor()\n",
    "])\n",
    "\n",
    "trainset = torchvision.datasets.CIFAR10('./data', train=True, download=True, transform=train_transforms)\n",
    "train_loader = torch.utils.data.DataLoader(trainset, batch_size=batch_size, shuffle=True)"
   ]
  },
  {
   "cell_type": "code",
   "execution_count": 4,
   "metadata": {},
   "outputs": [
    {
     "name": "stdout",
     "output_type": "stream",
     "text": [
      "Files already downloaded and verified\n"
     ]
    }
   ],
   "source": [
    "test_transforms = torchvision.transforms.Compose([torchvision.transforms.ToTensor()])\n",
    "\n",
    "testset = torchvision.datasets.CIFAR10('./data', train=False, download=True, transform=test_transforms)\n",
    "test_loader = torch.utils.data.DataLoader(testset, batch_size=batch_size, shuffle=False)"
   ]
  },
  {
   "cell_type": "code",
   "execution_count": 5,
   "metadata": {},
   "outputs": [
    {
     "name": "stdout",
     "output_type": "stream",
     "text": [
      "Training set: 50000 samples - Max value: 1.0 - Min value: 0.0\n"
     ]
    }
   ],
   "source": [
    "x_batch, y_batch = iter(train_loader).next()\n",
    "print(\"Training set: {} samples - Max value: {} - Min value: {}\".format(len(train_loader.dataset), \n",
    "                                                                        x_batch.max(), x_batch.min()))"
   ]
  },
  {
   "cell_type": "code",
   "execution_count": 6,
   "metadata": {},
   "outputs": [
    {
     "name": "stdout",
     "output_type": "stream",
     "text": [
      "Test set: 10000 samples - Max value: 1.0 - Min value: 0.0\n"
     ]
    }
   ],
   "source": [
    "x_batch, y_batch = iter(test_loader).next()\n",
    "print(\"Test set: {} samples - Max value: {} - Min value: {}\".format(len(test_loader.dataset), \n",
    "                                                                        x_batch.max(), x_batch.min()))"
   ]
  },
  {
   "cell_type": "code",
   "execution_count": 7,
   "metadata": {},
   "outputs": [
    {
     "name": "stdout",
     "output_type": "stream",
     "text": [
      "Example batch shape: torch.Size([100, 3, 32, 32])\n"
     ]
    }
   ],
   "source": [
    "print(\"Example batch shape: {}\".format(x_batch.shape))"
   ]
  },
  {
   "cell_type": "markdown",
   "metadata": {},
   "source": [
    "#### Net"
   ]
  },
  {
   "cell_type": "code",
   "execution_count": 8,
   "metadata": {},
   "outputs": [],
   "source": [
    "class GaussianNoise(nn.Module):\n",
    "    \"\"\"Gaussian noise regularizer.\n",
    "\n",
    "    Args:\n",
    "        sigma (float, optional): relative standard deviation used to generate the\n",
    "            noise. Relative means that it will be multiplied by the magnitude of\n",
    "            the value your are adding the noise to. This means that sigma can be\n",
    "            the same regardless of the scale of the vector.\n",
    "        is_relative_detach (bool, optional): whether to detach the variable before\n",
    "            computing the scale of the noise. If `False` then the scale of the noise\n",
    "            won't be seen as a constant but something to optimize: this will bias the\n",
    "            network to generate vectors with smaller values.\n",
    "    \"\"\"\n",
    "\n",
    "    def __init__(self, sigma=0.1, is_relative_detach=True):\n",
    "        super().__init__()\n",
    "        self.sigma = sigma\n",
    "        self.is_relative_detach = is_relative_detach\n",
    "        self.noise = torch.tensor(0).to(device).float()\n",
    "\n",
    "    def forward(self, x):\n",
    "        if self.training and self.sigma != 0:\n",
    "            scale = self.sigma * x.detach() if self.is_relative_detach else self.sigma * x\n",
    "            sampled_noise = self.noise.repeat(*x.size()).normal_() * scale\n",
    "            x = x + sampled_noise\n",
    "        return x "
   ]
  },
  {
   "cell_type": "code",
   "execution_count": 9,
   "metadata": {},
   "outputs": [
    {
     "name": "stdout",
     "output_type": "stream",
     "text": [
      "Net(\n",
      "  (block1): Sequential(\n",
      "    (0): Conv2d(3, 32, kernel_size=(3, 3), stride=(1, 1), padding=(1, 1))\n",
      "    (1): BatchNorm2d(32, eps=1e-05, momentum=0.1, affine=True, track_running_stats=True)\n",
      "    (2): GaussianNoise()\n",
      "    (3): ReLU()\n",
      "    (4): MaxPool2d(kernel_size=(2, 2), stride=(2, 2), padding=0, dilation=1, ceil_mode=False)\n",
      "  )\n",
      "  (block2): Sequential(\n",
      "    (0): Conv2d(32, 64, kernel_size=(3, 3), stride=(1, 1), padding=(1, 1))\n",
      "    (1): BatchNorm2d(64, eps=1e-05, momentum=0.1, affine=True, track_running_stats=True)\n",
      "    (2): GaussianNoise()\n",
      "    (3): ReLU()\n",
      "    (4): MaxPool2d(kernel_size=(2, 2), stride=(2, 2), padding=0, dilation=1, ceil_mode=False)\n",
      "  )\n",
      "  (block3): Sequential(\n",
      "    (0): Conv2d(64, 128, kernel_size=(3, 3), stride=(1, 1), padding=(1, 1))\n",
      "    (1): BatchNorm2d(128, eps=1e-05, momentum=0.1, affine=True, track_running_stats=True)\n",
      "    (2): GaussianNoise()\n",
      "    (3): ReLU()\n",
      "    (4): MaxPool2d(kernel_size=(2, 2), stride=(2, 2), padding=0, dilation=1, ceil_mode=False)\n",
      "  )\n",
      "  (block4): Sequential(\n",
      "    (0): Conv2d(128, 256, kernel_size=(3, 3), stride=(1, 1), padding=(1, 1))\n",
      "    (1): BatchNorm2d(256, eps=1e-05, momentum=0.1, affine=True, track_running_stats=True)\n",
      "    (2): GaussianNoise()\n",
      "    (3): ReLU()\n",
      "    (4): MaxPool2d(kernel_size=(2, 2), stride=(2, 2), padding=0, dilation=1, ceil_mode=False)\n",
      "  )\n",
      "  (block5): Sequential(\n",
      "    (0): Conv2d(256, 512, kernel_size=(3, 3), stride=(1, 1), padding=(1, 1))\n",
      "    (1): BatchNorm2d(512, eps=1e-05, momentum=0.1, affine=True, track_running_stats=True)\n",
      "    (2): GaussianNoise()\n",
      "    (3): ReLU()\n",
      "    (4): MaxPool2d(kernel_size=(2, 2), stride=(2, 2), padding=0, dilation=1, ceil_mode=False)\n",
      "  )\n",
      "  (features): Linear(in_features=512, out_features=512, bias=True)\n",
      "  (reluFeatures): ReLU()\n",
      "  (classifier): Linear(in_features=512, out_features=10, bias=True)\n",
      ")\n"
     ]
    }
   ],
   "source": [
    "class Net(nn.Module):\n",
    "    def __init__(self):\n",
    "        super(Net, self).__init__()\n",
    "        self.block1 = self._CBGN(3, 32)\n",
    "        self.block2 = self._CBGN(32, 64)\n",
    "        self.block3 = self._CBGN(64, 128)\n",
    "        self.block4 = self._CBGN(128, 256)\n",
    "        self.block5 = self._CBGN(256, 512)\n",
    "        # Flatten at forward!\n",
    "        self.features = nn.Linear(512, 512)\n",
    "        self.reluFeatures = nn.ReLU()\n",
    "        self.classifier = nn.Linear(512, num_classes)\n",
    "\n",
    "    def forward(self, x):\n",
    "        out = self.block1(x)               # 32x32 -> 16x16 @ 32\n",
    "        out = self.block2(out)             # 16x16 -> 8x8 @ 64\n",
    "        out = self.block3(out)             # 8x8 -> 4x4 @ 128\n",
    "        out = self.block4(out)             # 4x4 -> 2x2 @ 256\n",
    "        out = self.block5(out)             # 2x2 -> 1x1 @ 512\n",
    "        out = out.view(out.size(0), -1)    # Flatten\n",
    "        out = self.reluFeatures(self.features(out))  # 512 -> 512\n",
    "        out = self.classifier(out)         # 512 -> num_classes (10)\n",
    "        return out\n",
    "\n",
    "    # DEF A BLOCK Conv + BN + GN + MaxPool\n",
    "    def _CBGN(self, in_channels, filters):\n",
    "        layers = []\n",
    "        layers += [nn.Conv2d(in_channels, filters, kernel_size=(3,3), padding=1)]\n",
    "        layers += [nn.BatchNorm2d(filters)]\n",
    "        layers += [GaussianNoise(0.3)]\n",
    "        layers += [nn.ReLU()]\n",
    "        layers += [nn.MaxPool2d(kernel_size=(2,2))]\n",
    "        return nn.Sequential(*layers)\n",
    "\n",
    "\n",
    "net = Net().to(device)\n",
    "print(net)"
   ]
  },
  {
   "cell_type": "markdown",
   "metadata": {},
   "source": [
    "### Training"
   ]
  },
  {
   "cell_type": "code",
   "execution_count": 10,
   "metadata": {},
   "outputs": [],
   "source": [
    "criterion = nn.CrossEntropyLoss()\n",
    "optimizer = optim.SGD(net.parameters(), lr=0.1, weight_decay=1e-6)"
   ]
  },
  {
   "cell_type": "code",
   "execution_count": 11,
   "metadata": {},
   "outputs": [],
   "source": [
    "scheduler = torch.optim.lr_scheduler.MultiStepLR(optimizer, milestones=[25, 50], gamma=0.1)\n",
    "# lr = 0.1     at epoch < 25\n",
    "# lr = 0.01    30 <= epoch < 50\n",
    "# lr = 0.001   epoch >= 50"
   ]
  },
  {
   "cell_type": "code",
   "execution_count": 12,
   "metadata": {},
   "outputs": [
    {
     "name": "stdout",
     "output_type": "stream",
     "text": [
      "\n",
      "---- Start Training ----\n",
      "[Epoch 1] LR: 0.100 - Train Loss: 0.01577 - Test Loss: 0.01614 - Train Accuracy: 41.42% - Test Accuracy: 41.69%\n",
      "[Epoch 2] LR: 0.100 - Train Loss: 0.01230 - Test Loss: 0.01789 - Train Accuracy: 55.44% - Test Accuracy: 40.38%\n",
      "[Epoch 3] LR: 0.100 - Train Loss: 0.01085 - Test Loss: 0.01558 - Train Accuracy: 61.01% - Test Accuracy: 48.92%\n",
      "[Epoch 4] LR: 0.100 - Train Loss: 0.00986 - Test Loss: 0.01205 - Train Accuracy: 64.77% - Test Accuracy: 56.29%\n",
      "[Epoch 5] LR: 0.100 - Train Loss: 0.00915 - Test Loss: 0.01244 - Train Accuracy: 67.55% - Test Accuracy: 56.63%\n",
      "[Epoch 6] LR: 0.100 - Train Loss: 0.00865 - Test Loss: 0.01205 - Train Accuracy: 69.33% - Test Accuracy: 57.97%\n",
      "[Epoch 7] LR: 0.100 - Train Loss: 0.00826 - Test Loss: 0.02198 - Train Accuracy: 70.80% - Test Accuracy: 36.47%\n",
      "[Epoch 8] LR: 0.100 - Train Loss: 0.00796 - Test Loss: 0.01275 - Train Accuracy: 71.85% - Test Accuracy: 57.34%\n",
      "[Epoch 9] LR: 0.100 - Train Loss: 0.00766 - Test Loss: 0.01160 - Train Accuracy: 72.99% - Test Accuracy: 59.10%\n",
      "[Epoch 10] LR: 0.100 - Train Loss: 0.00742 - Test Loss: 0.00921 - Train Accuracy: 73.77% - Test Accuracy: 66.53%\n",
      "[Epoch 11] LR: 0.100 - Train Loss: 0.00721 - Test Loss: 0.01019 - Train Accuracy: 74.46% - Test Accuracy: 63.80%\n",
      "[Epoch 12] LR: 0.100 - Train Loss: 0.00703 - Test Loss: 0.00691 - Train Accuracy: 75.30% - Test Accuracy: 75.64%\n",
      "[Epoch 13] LR: 0.100 - Train Loss: 0.00687 - Test Loss: 0.00764 - Train Accuracy: 75.65% - Test Accuracy: 73.25%\n",
      "[Epoch 14] LR: 0.100 - Train Loss: 0.00669 - Test Loss: 0.00684 - Train Accuracy: 76.49% - Test Accuracy: 75.70%\n",
      "[Epoch 15] LR: 0.100 - Train Loss: 0.00654 - Test Loss: 0.01296 - Train Accuracy: 76.91% - Test Accuracy: 57.97%\n",
      "[Epoch 16] LR: 0.100 - Train Loss: 0.00637 - Test Loss: 0.01436 - Train Accuracy: 77.75% - Test Accuracy: 53.72%\n",
      "[Epoch 17] LR: 0.100 - Train Loss: 0.00628 - Test Loss: 0.00723 - Train Accuracy: 77.98% - Test Accuracy: 74.25%\n",
      "[Epoch 18] LR: 0.100 - Train Loss: 0.00619 - Test Loss: 0.00939 - Train Accuracy: 78.43% - Test Accuracy: 67.57%\n",
      "[Epoch 19] LR: 0.100 - Train Loss: 0.00605 - Test Loss: 0.00777 - Train Accuracy: 78.78% - Test Accuracy: 74.07%\n",
      "[Epoch 20] LR: 0.100 - Train Loss: 0.00596 - Test Loss: 0.00678 - Train Accuracy: 79.01% - Test Accuracy: 76.20%\n",
      "[Epoch 21] LR: 0.100 - Train Loss: 0.00585 - Test Loss: 0.00630 - Train Accuracy: 79.45% - Test Accuracy: 77.95%\n",
      "[Epoch 22] LR: 0.100 - Train Loss: 0.00577 - Test Loss: 0.00565 - Train Accuracy: 79.84% - Test Accuracy: 80.80%\n",
      "[Epoch 23] LR: 0.100 - Train Loss: 0.00568 - Test Loss: 0.00603 - Train Accuracy: 80.12% - Test Accuracy: 79.26%\n",
      "[Epoch 24] LR: 0.100 - Train Loss: 0.00558 - Test Loss: 0.00655 - Train Accuracy: 80.48% - Test Accuracy: 77.27%\n",
      "[Epoch 25] LR: 0.100 - Train Loss: 0.00553 - Test Loss: 0.00654 - Train Accuracy: 80.56% - Test Accuracy: 77.49%\n",
      "[Epoch 26] LR: 0.100 - Train Loss: 0.00543 - Test Loss: 0.00733 - Train Accuracy: 81.01% - Test Accuracy: 75.15%\n",
      "[Epoch 27] LR: 0.010 - Train Loss: 0.00483 - Test Loss: 0.00532 - Train Accuracy: 82.89% - Test Accuracy: 81.45%\n",
      "[Epoch 28] LR: 0.010 - Train Loss: 0.00472 - Test Loss: 0.00523 - Train Accuracy: 83.34% - Test Accuracy: 81.77%\n",
      "[Epoch 29] LR: 0.010 - Train Loss: 0.00467 - Test Loss: 0.00500 - Train Accuracy: 83.55% - Test Accuracy: 82.73%\n",
      "[Epoch 30] LR: 0.010 - Train Loss: 0.00460 - Test Loss: 0.00522 - Train Accuracy: 83.67% - Test Accuracy: 81.87%\n",
      "[Epoch 31] LR: 0.010 - Train Loss: 0.00459 - Test Loss: 0.00496 - Train Accuracy: 83.94% - Test Accuracy: 82.64%\n",
      "[Epoch 32] LR: 0.010 - Train Loss: 0.00457 - Test Loss: 0.00477 - Train Accuracy: 83.87% - Test Accuracy: 83.21%\n",
      "[Epoch 33] LR: 0.010 - Train Loss: 0.00455 - Test Loss: 0.00478 - Train Accuracy: 83.92% - Test Accuracy: 83.42%\n",
      "[Epoch 34] LR: 0.010 - Train Loss: 0.00452 - Test Loss: 0.00476 - Train Accuracy: 84.04% - Test Accuracy: 83.58%\n",
      "[Epoch 35] LR: 0.010 - Train Loss: 0.00454 - Test Loss: 0.00493 - Train Accuracy: 83.87% - Test Accuracy: 82.93%\n",
      "[Epoch 36] LR: 0.010 - Train Loss: 0.00449 - Test Loss: 0.00485 - Train Accuracy: 84.25% - Test Accuracy: 83.27%\n",
      "[Epoch 37] LR: 0.010 - Train Loss: 0.00446 - Test Loss: 0.00475 - Train Accuracy: 84.35% - Test Accuracy: 83.69%\n",
      "[Epoch 38] LR: 0.010 - Train Loss: 0.00444 - Test Loss: 0.00498 - Train Accuracy: 84.25% - Test Accuracy: 82.74%\n",
      "[Epoch 39] LR: 0.010 - Train Loss: 0.00441 - Test Loss: 0.00489 - Train Accuracy: 84.43% - Test Accuracy: 82.96%\n",
      "[Epoch 40] LR: 0.010 - Train Loss: 0.00443 - Test Loss: 0.00479 - Train Accuracy: 84.47% - Test Accuracy: 83.53%\n",
      "[Epoch 41] LR: 0.010 - Train Loss: 0.00439 - Test Loss: 0.00513 - Train Accuracy: 84.46% - Test Accuracy: 82.08%\n",
      "[Epoch 42] LR: 0.010 - Train Loss: 0.00440 - Test Loss: 0.00478 - Train Accuracy: 84.51% - Test Accuracy: 83.45%\n",
      "[Epoch 43] LR: 0.010 - Train Loss: 0.00436 - Test Loss: 0.00481 - Train Accuracy: 84.73% - Test Accuracy: 83.37%\n",
      "[Epoch 44] LR: 0.010 - Train Loss: 0.00432 - Test Loss: 0.00492 - Train Accuracy: 84.69% - Test Accuracy: 83.11%\n",
      "[Epoch 45] LR: 0.010 - Train Loss: 0.00432 - Test Loss: 0.00501 - Train Accuracy: 84.74% - Test Accuracy: 82.60%\n",
      "[Epoch 46] LR: 0.010 - Train Loss: 0.00433 - Test Loss: 0.00475 - Train Accuracy: 84.70% - Test Accuracy: 83.62%\n",
      "[Epoch 47] LR: 0.010 - Train Loss: 0.00434 - Test Loss: 0.00495 - Train Accuracy: 84.67% - Test Accuracy: 82.92%\n",
      "[Epoch 48] LR: 0.010 - Train Loss: 0.00434 - Test Loss: 0.00458 - Train Accuracy: 84.67% - Test Accuracy: 84.30%\n",
      "[Epoch 49] LR: 0.010 - Train Loss: 0.00427 - Test Loss: 0.00474 - Train Accuracy: 84.84% - Test Accuracy: 83.76%\n",
      "[Epoch 50] LR: 0.010 - Train Loss: 0.00424 - Test Loss: 0.00458 - Train Accuracy: 84.92% - Test Accuracy: 84.31%\n",
      "[Epoch 51] LR: 0.010 - Train Loss: 0.00427 - Test Loss: 0.00488 - Train Accuracy: 84.95% - Test Accuracy: 82.98%\n",
      "[Epoch 52] LR: 0.001 - Train Loss: 0.00421 - Test Loss: 0.00471 - Train Accuracy: 85.11% - Test Accuracy: 83.89%\n",
      "[Epoch 53] LR: 0.001 - Train Loss: 0.00420 - Test Loss: 0.00472 - Train Accuracy: 85.04% - Test Accuracy: 83.81%\n",
      "[Epoch 54] LR: 0.001 - Train Loss: 0.00419 - Test Loss: 0.00475 - Train Accuracy: 85.26% - Test Accuracy: 83.62%\n",
      "[Epoch 55] LR: 0.001 - Train Loss: 0.00421 - Test Loss: 0.00474 - Train Accuracy: 85.21% - Test Accuracy: 83.64%\n",
      "[Epoch 56] LR: 0.001 - Train Loss: 0.00422 - Test Loss: 0.00477 - Train Accuracy: 85.12% - Test Accuracy: 83.60%\n",
      "[Epoch 57] LR: 0.001 - Train Loss: 0.00420 - Test Loss: 0.00478 - Train Accuracy: 85.30% - Test Accuracy: 83.51%\n",
      "[Epoch 58] LR: 0.001 - Train Loss: 0.00418 - Test Loss: 0.00475 - Train Accuracy: 85.21% - Test Accuracy: 83.67%\n",
      "[Epoch 59] LR: 0.001 - Train Loss: 0.00417 - Test Loss: 0.00470 - Train Accuracy: 85.25% - Test Accuracy: 83.79%\n",
      "[Epoch 60] LR: 0.001 - Train Loss: 0.00417 - Test Loss: 0.00471 - Train Accuracy: 85.27% - Test Accuracy: 83.70%\n",
      "[Epoch 61] LR: 0.001 - Train Loss: 0.00421 - Test Loss: 0.00472 - Train Accuracy: 85.10% - Test Accuracy: 83.57%\n",
      "[Epoch 62] LR: 0.001 - Train Loss: 0.00417 - Test Loss: 0.00474 - Train Accuracy: 85.40% - Test Accuracy: 83.63%\n",
      "[Epoch 63] LR: 0.001 - Train Loss: 0.00415 - Test Loss: 0.00475 - Train Accuracy: 85.52% - Test Accuracy: 83.65%\n",
      "[Epoch 64] LR: 0.001 - Train Loss: 0.00417 - Test Loss: 0.00471 - Train Accuracy: 85.28% - Test Accuracy: 83.81%\n",
      "[Epoch 65] LR: 0.001 - Train Loss: 0.00414 - Test Loss: 0.00478 - Train Accuracy: 85.45% - Test Accuracy: 83.65%\n",
      "[Epoch 66] LR: 0.001 - Train Loss: 0.00415 - Test Loss: 0.00472 - Train Accuracy: 85.36% - Test Accuracy: 83.81%\n",
      "[Epoch 67] LR: 0.001 - Train Loss: 0.00418 - Test Loss: 0.00474 - Train Accuracy: 85.25% - Test Accuracy: 83.70%\n",
      "[Epoch 68] LR: 0.001 - Train Loss: 0.00414 - Test Loss: 0.00476 - Train Accuracy: 85.30% - Test Accuracy: 83.66%\n",
      "[Epoch 69] LR: 0.001 - Train Loss: 0.00415 - Test Loss: 0.00467 - Train Accuracy: 85.51% - Test Accuracy: 83.99%\n",
      "[Epoch 70] LR: 0.001 - Train Loss: 0.00417 - Test Loss: 0.00472 - Train Accuracy: 85.11% - Test Accuracy: 83.72%\n",
      "[Epoch 71] LR: 0.001 - Train Loss: 0.00414 - Test Loss: 0.00472 - Train Accuracy: 85.43% - Test Accuracy: 83.74%\n",
      "[Epoch 72] LR: 0.001 - Train Loss: 0.00417 - Test Loss: 0.00476 - Train Accuracy: 85.31% - Test Accuracy: 83.61%\n",
      "[Epoch 73] LR: 0.001 - Train Loss: 0.00416 - Test Loss: 0.00477 - Train Accuracy: 85.30% - Test Accuracy: 83.58%\n"
     ]
    },
    {
     "name": "stdout",
     "output_type": "stream",
     "text": [
      "[Epoch 74] LR: 0.001 - Train Loss: 0.00414 - Test Loss: 0.00470 - Train Accuracy: 85.36% - Test Accuracy: 83.75%\n",
      "[Epoch 75] LR: 0.001 - Train Loss: 0.00416 - Test Loss: 0.00463 - Train Accuracy: 85.23% - Test Accuracy: 84.19%\n",
      "Finished Training\n",
      "Best Test accuracy: 84.31\n"
     ]
    }
   ],
   "source": [
    "print(\"\\n---- Start Training ----\")\n",
    "best_accuracy = -1\n",
    "for epoch in range(epochs):\n",
    "\n",
    "    # TRAIN THE NETWORK\n",
    "    train_loss, train_correct = 0, 0\n",
    "    net.train()\n",
    "    for inputs, targets in train_loader:\n",
    "        # data is a list of [inputs, labels]\n",
    "        inputs, targets = inputs.to(device), targets.to(device)\n",
    "        # zero the parameter gradients\n",
    "        optimizer.zero_grad()\n",
    "\n",
    "        # forward + backward + optimize\n",
    "        outputs = net(inputs)\n",
    "        loss = criterion(outputs, targets)\n",
    "        loss.backward()\n",
    "        optimizer.step()\n",
    "        _, pred = outputs.max(1)  # get the index of the max log-probability\n",
    "        train_correct += pred.eq(targets).sum().item()\n",
    "\n",
    "        # print statistics\n",
    "        train_loss += loss.item()\n",
    "        \n",
    "    train_loss /= len(train_loader.dataset)\n",
    "\n",
    "    # TEST NETWORK\n",
    "    net.eval()\n",
    "    test_loss, correct = 0, 0\n",
    "    with torch.no_grad():\n",
    "        for inputs, targets in test_loader:\n",
    "            inputs, targets = inputs.to(device), targets.to(device)\n",
    "            outputs = net(inputs)\n",
    "            test_loss += criterion(outputs, targets)\n",
    "            _, pred = outputs.max(1)  # get the index of the max log-probability\n",
    "            correct += pred.eq(targets).sum().item()\n",
    "\n",
    "    test_loss /= len(test_loader.dataset)\n",
    "    test_accuracy = 100. * correct / len(test_loader.dataset)\n",
    "    \n",
    "    for param_group in optimizer.param_groups:\n",
    "        current_lr = param_group['lr']\n",
    "        \n",
    "    print(\"[Epoch {}] LR: {:.3f} - Train Loss: {:.5f} - Test Loss: {:.5f} - Train Accuracy: {:.2f}% - Test Accuracy: {:.2f}%\".format(epoch+1, current_lr, train_loss, test_loss, 100. * train_correct / len(train_loader.dataset), test_accuracy))\n",
    "    \n",
    "    if test_accuracy>best_accuracy:\n",
    "        best_accuracy = test_accuracy\n",
    "    \n",
    "    scheduler.step()\n",
    "    \n",
    "print('Finished Training')\n",
    "print(\"Best Test accuracy: {:.2f}\".format(best_accuracy))"
   ]
  }
 ],
 "metadata": {
  "kernelspec": {
   "display_name": "Python 3",
   "language": "python",
   "name": "python3"
  },
  "language_info": {
   "codemirror_mode": {
    "name": "ipython",
    "version": 3
   },
   "file_extension": ".py",
   "mimetype": "text/x-python",
   "name": "python",
   "nbconvert_exporter": "python",
   "pygments_lexer": "ipython3",
   "version": "3.5.2"
  }
 },
 "nbformat": 4,
 "nbformat_minor": 2
}
