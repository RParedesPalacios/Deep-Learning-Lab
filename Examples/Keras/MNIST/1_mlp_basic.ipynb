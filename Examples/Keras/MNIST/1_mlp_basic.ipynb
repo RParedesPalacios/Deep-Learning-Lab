{
  "nbformat": 4,
  "nbformat_minor": 0,
  "metadata": {
    "colab": {
      "name": "1_mlp_basic.ipynb",
      "version": "0.3.2",
      "views": {},
      "default_view": {},
      "provenance": [],
      "collapsed_sections": []
    },
    "kernelspec": {
      "name": "python3",
      "display_name": "Python 3"
    },
    "accelerator": "GPU"
  },
  "cells": [
    {
      "metadata": {
        "id": "UNHHqdoqSRTC",
        "colab_type": "code",
        "colab": {
          "autoexec": {
            "startup": false,
            "wait_interval": 0
          }
        }
      },
      "cell_type": "code",
      "source": [
        ""
      ],
      "execution_count": 0,
      "outputs": []
    },
    {
      "metadata": {
        "id": "ORvwib-YSR-p",
        "colab_type": "text"
      },
      "cell_type": "markdown",
      "source": [
        "**BASIC MNIST EXAMPLE WITH MLP**"
      ]
    },
    {
      "metadata": {
        "id": "0YRXPjE-Sf1a",
        "colab_type": "text"
      },
      "cell_type": "markdown",
      "source": [
        "Install Keras just in case..."
      ]
    },
    {
      "metadata": {
        "id": "MhsFJNHpSSKE",
        "colab_type": "code",
        "colab": {
          "autoexec": {
            "startup": false,
            "wait_interval": 0
          }
        }
      },
      "cell_type": "code",
      "source": [
        "!pip3 install keras"
      ],
      "execution_count": 0,
      "outputs": []
    },
    {
      "metadata": {
        "id": "CGX8RGwHSSTr",
        "colab_type": "text"
      },
      "cell_type": "markdown",
      "source": [
        "Imports..."
      ]
    },
    {
      "metadata": {
        "id": "D8qeBuPiSSdc",
        "colab_type": "code",
        "colab": {
          "autoexec": {
            "startup": false,
            "wait_interval": 0
          }
        }
      },
      "cell_type": "code",
      "source": [
        "from __future__ import print_function\n",
        "\n",
        "import keras\n",
        "from keras.datasets import mnist\n",
        "from keras.models import Sequential\n",
        "from keras.layers import Dense\n",
        "from keras.optimizers import SGD"
      ],
      "execution_count": 0,
      "outputs": []
    },
    {
      "metadata": {
        "id": "-M9uBGifSSqd",
        "colab_type": "text"
      },
      "cell_type": "markdown",
      "source": [
        "Define batch size, number of epochs and number of classes\n"
      ]
    },
    {
      "metadata": {
        "id": "iaWFWm8mSTBj",
        "colab_type": "code",
        "colab": {
          "autoexec": {
            "startup": false,
            "wait_interval": 0
          }
        }
      },
      "cell_type": "code",
      "source": [
        "batch_size = 128\n",
        "epochs = 25\n",
        "num_classes=10"
      ],
      "execution_count": 0,
      "outputs": []
    },
    {
      "metadata": {
        "id": "IKwjPVkoSTLr",
        "colab_type": "text"
      },
      "cell_type": "markdown",
      "source": [
        "Load MNIST and transform"
      ]
    },
    {
      "metadata": {
        "id": "fZ9D1F8FSTWW",
        "colab_type": "code",
        "colab": {
          "autoexec": {
            "startup": false,
            "wait_interval": 0
          }
        }
      },
      "cell_type": "code",
      "source": [
        "(x_train, y_train), (x_test, y_test) = mnist.load_data()\n",
        "\n",
        "print('training set', x_train.shape)\n",
        "print('test set', x_test.shape)\n",
        "\n",
        "x_train = x_train.reshape(60000, 784)\n",
        "x_test = x_test.reshape(10000, 784)\n",
        "x_train = x_train.astype('float32')\n",
        "x_test = x_test.astype('float32')\n",
        "\n",
        "# Normalize [0..255]-->[0..1]\n",
        "x_train /= 255\n",
        "x_test /= 255\n",
        "\n",
        "# convert class vectors to binary class matrices\n",
        "y_train = keras.utils.to_categorical(y_train, num_classes)\n",
        "y_test = keras.utils.to_categorical(y_test, num_classes)"
      ],
      "execution_count": 0,
      "outputs": []
    },
    {
      "metadata": {
        "id": "24bIWSBXSThW",
        "colab_type": "text"
      },
      "cell_type": "markdown",
      "source": [
        "Define the NN topology, a sequential model with 2 hidden layers"
      ]
    },
    {
      "metadata": {
        "id": "pFy6tdc0STtb",
        "colab_type": "code",
        "colab": {
          "autoexec": {
            "startup": false,
            "wait_interval": 0
          }
        }
      },
      "cell_type": "code",
      "source": [
        "model = Sequential()\n",
        "model.add(Dense(512, activation='relu', input_shape=(784,)))\n",
        "model.add(Dense(512, activation='relu'))\n",
        "model.add(Dense(num_classes, activation='softmax'))\n",
        "\n",
        "model.summary()\n"
      ],
      "execution_count": 0,
      "outputs": []
    },
    {
      "metadata": {
        "id": "dkDjl8exTTDZ",
        "colab_type": "text"
      },
      "cell_type": "markdown",
      "source": [
        "Define an optimizer "
      ]
    },
    {
      "metadata": {
        "id": "LTRuAT1FTTOw",
        "colab_type": "code",
        "colab": {
          "autoexec": {
            "startup": false,
            "wait_interval": 0
          }
        }
      },
      "cell_type": "code",
      "source": [
        "sgd=SGD(lr=0.01, decay=1e-6, momentum=0.9)"
      ],
      "execution_count": 0,
      "outputs": []
    },
    {
      "metadata": {
        "id": "bHhBHWFjTTYy",
        "colab_type": "text"
      },
      "cell_type": "markdown",
      "source": [
        "Compile the model, define loss and link the optimizer"
      ]
    },
    {
      "metadata": {
        "id": "8W8KCPtcTTii",
        "colab_type": "code",
        "colab": {
          "autoexec": {
            "startup": false,
            "wait_interval": 0
          }
        }
      },
      "cell_type": "code",
      "source": [
        "model.compile(loss='categorical_crossentropy',\n",
        "              optimizer=sgd,\n",
        "              metrics=['accuracy'])"
      ],
      "execution_count": 0,
      "outputs": []
    },
    {
      "metadata": {
        "id": "HBOKdV6MTTtA",
        "colab_type": "text"
      },
      "cell_type": "markdown",
      "source": [
        "Finally, train the model and evaluate over the test data"
      ]
    },
    {
      "metadata": {
        "id": "gLPsSdVDTT37",
        "colab_type": "code",
        "colab": {
          "autoexec": {
            "startup": false,
            "wait_interval": 0
          }
        }
      },
      "cell_type": "code",
      "source": [
        "history = model.fit(x_train, y_train,\n",
        "                    batch_size=batch_size,\n",
        "                    epochs=epochs,\n",
        "                    verbose=1,\n",
        "                    validation_data=(x_test, y_test))\n",
        "\n",
        "# Evaluate over test\n",
        "score = model.evaluate(x_test, y_test, verbose=0)\n",
        "\n",
        "\n",
        "print('Test loss:', score[0])\n",
        "print('Test accuracy:', score[1])"
      ],
      "execution_count": 0,
      "outputs": []
    }
  ]
}